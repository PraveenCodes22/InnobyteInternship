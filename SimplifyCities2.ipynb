{
 "cells": [
  {
   "cell_type": "code",
   "execution_count": 8,
   "id": "72d83914-5011-407d-84d2-3669d8940dbb",
   "metadata": {},
   "outputs": [],
   "source": [
    "import pandas as pd\n",
    "import re"
   ]
  },
  {
   "cell_type": "code",
   "execution_count": 12,
   "id": "1ffa8071-47b1-40d5-bc19-06217bf86ddc",
   "metadata": {},
   "outputs": [],
   "source": [
    "def simplify_city_name(city_name):\n",
    "    return re.sub(r'\\s(city|east|west|north|south)(\\s.*)?$', '', city_name, flags=re.IGNORECASE )"
   ]
  },
  {
   "cell_type": "code",
   "execution_count": 16,
   "id": "4910ae08-8664-447f-9c3d-1c0e32ad95d0",
   "metadata": {},
   "outputs": [],
   "source": [
    "df = pd.read_csv(\"C:/Users/nagap/Documents/ValidatedCities2.csv\", encoding = 'latin1')"
   ]
  },
  {
   "cell_type": "code",
   "execution_count": 18,
   "id": "6cec0c91-e1fa-4f9c-a060-3ad59a738e3d",
   "metadata": {},
   "outputs": [
    {
     "data": {
      "text/html": [
       "<div>\n",
       "<style scoped>\n",
       "    .dataframe tbody tr th:only-of-type {\n",
       "        vertical-align: middle;\n",
       "    }\n",
       "\n",
       "    .dataframe tbody tr th {\n",
       "        vertical-align: top;\n",
       "    }\n",
       "\n",
       "    .dataframe thead th {\n",
       "        text-align: right;\n",
       "    }\n",
       "</style>\n",
       "<table border=\"1\" class=\"dataframe\">\n",
       "  <thead>\n",
       "    <tr style=\"text-align: right;\">\n",
       "      <th></th>\n",
       "      <th>Ship_city</th>\n",
       "      <th>Ship_postal_code</th>\n",
       "      <th>Validated_City</th>\n",
       "    </tr>\n",
       "  </thead>\n",
       "  <tbody>\n",
       "    <tr>\n",
       "      <th>0</th>\n",
       "      <td>Mumbai</td>\n",
       "      <td>400081</td>\n",
       "      <td>Mumbai City North East</td>\n",
       "    </tr>\n",
       "    <tr>\n",
       "      <th>1</th>\n",
       "      <td>Bengaluru</td>\n",
       "      <td>560085</td>\n",
       "      <td>Bengaluru South</td>\n",
       "    </tr>\n",
       "    <tr>\n",
       "      <th>2</th>\n",
       "      <td>Navi Mumbai</td>\n",
       "      <td>410210</td>\n",
       "      <td>Navi Mumbai</td>\n",
       "    </tr>\n",
       "    <tr>\n",
       "      <th>3</th>\n",
       "      <td>Puducherry</td>\n",
       "      <td>605008</td>\n",
       "      <td>Pondicherry</td>\n",
       "    </tr>\n",
       "    <tr>\n",
       "      <th>4</th>\n",
       "      <td>Chennai</td>\n",
       "      <td>600073</td>\n",
       "      <td>Tambaram</td>\n",
       "    </tr>\n",
       "  </tbody>\n",
       "</table>\n",
       "</div>"
      ],
      "text/plain": [
       "     Ship_city  Ship_postal_code          Validated_City\n",
       "0       Mumbai            400081  Mumbai City North East\n",
       "1    Bengaluru            560085         Bengaluru South\n",
       "2  Navi Mumbai            410210             Navi Mumbai\n",
       "3   Puducherry            605008             Pondicherry\n",
       "4      Chennai            600073                Tambaram"
      ]
     },
     "execution_count": 18,
     "metadata": {},
     "output_type": "execute_result"
    }
   ],
   "source": [
    "df.head()"
   ]
  },
  {
   "cell_type": "code",
   "execution_count": 20,
   "id": "b0ce3c5d-331c-461e-87ba-818a16c9fe28",
   "metadata": {},
   "outputs": [],
   "source": [
    "df['Simplified_Cities'] = df['Validated_City'].apply(simplify_city_name)"
   ]
  },
  {
   "cell_type": "code",
   "execution_count": 22,
   "id": "de378e1d-28df-4be9-b2e3-1ecd2c3b7bb3",
   "metadata": {},
   "outputs": [
    {
     "data": {
      "text/html": [
       "<div>\n",
       "<style scoped>\n",
       "    .dataframe tbody tr th:only-of-type {\n",
       "        vertical-align: middle;\n",
       "    }\n",
       "\n",
       "    .dataframe tbody tr th {\n",
       "        vertical-align: top;\n",
       "    }\n",
       "\n",
       "    .dataframe thead th {\n",
       "        text-align: right;\n",
       "    }\n",
       "</style>\n",
       "<table border=\"1\" class=\"dataframe\">\n",
       "  <thead>\n",
       "    <tr style=\"text-align: right;\">\n",
       "      <th></th>\n",
       "      <th>Ship_city</th>\n",
       "      <th>Ship_postal_code</th>\n",
       "      <th>Validated_City</th>\n",
       "      <th>Simplified_Cities</th>\n",
       "    </tr>\n",
       "  </thead>\n",
       "  <tbody>\n",
       "    <tr>\n",
       "      <th>0</th>\n",
       "      <td>Mumbai</td>\n",
       "      <td>400081</td>\n",
       "      <td>Mumbai City North East</td>\n",
       "      <td>Mumbai</td>\n",
       "    </tr>\n",
       "    <tr>\n",
       "      <th>1</th>\n",
       "      <td>Bengaluru</td>\n",
       "      <td>560085</td>\n",
       "      <td>Bengaluru South</td>\n",
       "      <td>Bengaluru</td>\n",
       "    </tr>\n",
       "    <tr>\n",
       "      <th>2</th>\n",
       "      <td>Navi Mumbai</td>\n",
       "      <td>410210</td>\n",
       "      <td>Navi Mumbai</td>\n",
       "      <td>Navi Mumbai</td>\n",
       "    </tr>\n",
       "    <tr>\n",
       "      <th>3</th>\n",
       "      <td>Puducherry</td>\n",
       "      <td>605008</td>\n",
       "      <td>Pondicherry</td>\n",
       "      <td>Pondicherry</td>\n",
       "    </tr>\n",
       "    <tr>\n",
       "      <th>4</th>\n",
       "      <td>Chennai</td>\n",
       "      <td>600073</td>\n",
       "      <td>Tambaram</td>\n",
       "      <td>Tambaram</td>\n",
       "    </tr>\n",
       "    <tr>\n",
       "      <th>...</th>\n",
       "      <td>...</td>\n",
       "      <td>...</td>\n",
       "      <td>...</td>\n",
       "      <td>...</td>\n",
       "    </tr>\n",
       "    <tr>\n",
       "      <th>128971</th>\n",
       "      <td>Hyderabad</td>\n",
       "      <td>500013</td>\n",
       "      <td>Hyderabad South East</td>\n",
       "      <td>Hyderabad</td>\n",
       "    </tr>\n",
       "    <tr>\n",
       "      <th>128972</th>\n",
       "      <td>Gurugram</td>\n",
       "      <td>122004</td>\n",
       "      <td>Gurgaon</td>\n",
       "      <td>Gurgaon</td>\n",
       "    </tr>\n",
       "    <tr>\n",
       "      <th>128973</th>\n",
       "      <td>Hyderabad</td>\n",
       "      <td>500049</td>\n",
       "      <td>Secunderabad</td>\n",
       "      <td>Secunderabad</td>\n",
       "    </tr>\n",
       "    <tr>\n",
       "      <th>128974</th>\n",
       "      <td>Halol</td>\n",
       "      <td>389350</td>\n",
       "      <td>Panchmahals</td>\n",
       "      <td>Panchmahals</td>\n",
       "    </tr>\n",
       "    <tr>\n",
       "      <th>128975</th>\n",
       "      <td>Raipur</td>\n",
       "      <td>492014</td>\n",
       "      <td>Raipur</td>\n",
       "      <td>Raipur</td>\n",
       "    </tr>\n",
       "  </tbody>\n",
       "</table>\n",
       "<p>128976 rows × 4 columns</p>\n",
       "</div>"
      ],
      "text/plain": [
       "          Ship_city  Ship_postal_code          Validated_City  \\\n",
       "0            Mumbai            400081  Mumbai City North East   \n",
       "1         Bengaluru            560085         Bengaluru South   \n",
       "2       Navi Mumbai            410210             Navi Mumbai   \n",
       "3        Puducherry            605008             Pondicherry   \n",
       "4           Chennai            600073                Tambaram   \n",
       "...             ...               ...                     ...   \n",
       "128971    Hyderabad            500013    Hyderabad South East   \n",
       "128972     Gurugram            122004                 Gurgaon   \n",
       "128973    Hyderabad            500049            Secunderabad   \n",
       "128974        Halol            389350             Panchmahals   \n",
       "128975       Raipur            492014                  Raipur   \n",
       "\n",
       "       Simplified_Cities  \n",
       "0                 Mumbai  \n",
       "1              Bengaluru  \n",
       "2            Navi Mumbai  \n",
       "3            Pondicherry  \n",
       "4               Tambaram  \n",
       "...                  ...  \n",
       "128971         Hyderabad  \n",
       "128972           Gurgaon  \n",
       "128973      Secunderabad  \n",
       "128974       Panchmahals  \n",
       "128975            Raipur  \n",
       "\n",
       "[128976 rows x 4 columns]"
      ]
     },
     "execution_count": 22,
     "metadata": {},
     "output_type": "execute_result"
    }
   ],
   "source": [
    "df"
   ]
  },
  {
   "cell_type": "code",
   "execution_count": 24,
   "id": "3c6de613-3660-4181-956b-56d1c0232240",
   "metadata": {},
   "outputs": [],
   "source": [
    "df.to_csv('C:/Users/nagap/Documents/ValidatedCities2SimplifiedCities.csv', index = False)"
   ]
  },
  {
   "cell_type": "code",
   "execution_count": null,
   "id": "8451efd3-3ede-4165-9098-0a449cdc34b0",
   "metadata": {},
   "outputs": [],
   "source": []
  },
  {
   "cell_type": "code",
   "execution_count": null,
   "id": "81044157-c753-4c15-9cb5-02b8c43944e3",
   "metadata": {},
   "outputs": [],
   "source": []
  },
  {
   "cell_type": "code",
   "execution_count": null,
   "id": "94dfc19d-cda8-4ded-8a9c-89926f099eab",
   "metadata": {},
   "outputs": [],
   "source": []
  },
  {
   "cell_type": "code",
   "execution_count": null,
   "id": "153a5771-e470-41b8-a81b-c784bb4df3be",
   "metadata": {},
   "outputs": [],
   "source": []
  }
 ],
 "metadata": {
  "kernelspec": {
   "display_name": "Python 3 (ipykernel)",
   "language": "python",
   "name": "python3"
  },
  "language_info": {
   "codemirror_mode": {
    "name": "ipython",
    "version": 3
   },
   "file_extension": ".py",
   "mimetype": "text/x-python",
   "name": "python",
   "nbconvert_exporter": "python",
   "pygments_lexer": "ipython3",
   "version": "3.12.4"
  }
 },
 "nbformat": 4,
 "nbformat_minor": 5
}
