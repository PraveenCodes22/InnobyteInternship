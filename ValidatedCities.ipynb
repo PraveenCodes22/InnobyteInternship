{
 "cells": [
  {
   "cell_type": "code",
   "execution_count": 3,
   "id": "2e1d9816-1e18-4f8c-a654-43b35ea57bf0",
   "metadata": {},
   "outputs": [],
   "source": [
    "import pandas as pd\n",
    "from fuzzywuzzy import process"
   ]
  },
  {
   "cell_type": "code",
   "execution_count": 6,
   "id": "32805215-90e2-4247-9183-029b34f0b8a9",
   "metadata": {},
   "outputs": [],
   "source": [
    "df_cities = pd.read_csv(\"C:/Users/nagap/Documents/Citynames.csv\",encoding = 'latin1')"
   ]
  },
  {
   "cell_type": "code",
   "execution_count": 12,
   "id": "029635c3-bc02-420a-97d2-9bdf544a6977",
   "metadata": {},
   "outputs": [],
   "source": [
    "df_cities['Ship_city'] = df_cities['Ship_city'].str.strip().str.title()"
   ]
  },
  {
   "cell_type": "code",
   "execution_count": 14,
   "id": "19c5b9c6-5868-4f7b-b185-945b59b4365a",
   "metadata": {},
   "outputs": [
    {
     "data": {
      "text/html": [
       "<div>\n",
       "<style scoped>\n",
       "    .dataframe tbody tr th:only-of-type {\n",
       "        vertical-align: middle;\n",
       "    }\n",
       "\n",
       "    .dataframe tbody tr th {\n",
       "        vertical-align: top;\n",
       "    }\n",
       "\n",
       "    .dataframe thead th {\n",
       "        text-align: right;\n",
       "    }\n",
       "</style>\n",
       "<table border=\"1\" class=\"dataframe\">\n",
       "  <thead>\n",
       "    <tr style=\"text-align: right;\">\n",
       "      <th></th>\n",
       "      <th>Ship_city</th>\n",
       "      <th>Ship_postal_code</th>\n",
       "    </tr>\n",
       "  </thead>\n",
       "  <tbody>\n",
       "    <tr>\n",
       "      <th>0</th>\n",
       "      <td>Mumbai</td>\n",
       "      <td>400081</td>\n",
       "    </tr>\n",
       "    <tr>\n",
       "      <th>1</th>\n",
       "      <td>Bengaluru</td>\n",
       "      <td>560085</td>\n",
       "    </tr>\n",
       "    <tr>\n",
       "      <th>2</th>\n",
       "      <td>Navi Mumbai</td>\n",
       "      <td>410210</td>\n",
       "    </tr>\n",
       "    <tr>\n",
       "      <th>3</th>\n",
       "      <td>Puducherry</td>\n",
       "      <td>605008</td>\n",
       "    </tr>\n",
       "    <tr>\n",
       "      <th>4</th>\n",
       "      <td>Chennai</td>\n",
       "      <td>600073</td>\n",
       "    </tr>\n",
       "  </tbody>\n",
       "</table>\n",
       "</div>"
      ],
      "text/plain": [
       "     Ship_city  Ship_postal_code\n",
       "0       Mumbai            400081\n",
       "1    Bengaluru            560085\n",
       "2  Navi Mumbai            410210\n",
       "3   Puducherry            605008\n",
       "4      Chennai            600073"
      ]
     },
     "execution_count": 14,
     "metadata": {},
     "output_type": "execute_result"
    }
   ],
   "source": [
    "df_cities.head()"
   ]
  },
  {
   "cell_type": "code",
   "execution_count": 17,
   "id": "9bfd4974-34f2-49dc-967f-cd03465e353f",
   "metadata": {},
   "outputs": [],
   "source": [
    "df_local = pd.read_csv(\"C:/Users/nagap/Downloads/pincode.csv\", encoding = \"latin1\")"
   ]
  },
  {
   "cell_type": "code",
   "execution_count": 19,
   "id": "665711b8-bf8a-421f-a113-3457f09851fd",
   "metadata": {},
   "outputs": [
    {
     "data": {
      "text/html": [
       "<div>\n",
       "<style scoped>\n",
       "    .dataframe tbody tr th:only-of-type {\n",
       "        vertical-align: middle;\n",
       "    }\n",
       "\n",
       "    .dataframe tbody tr th {\n",
       "        vertical-align: top;\n",
       "    }\n",
       "\n",
       "    .dataframe thead th {\n",
       "        text-align: right;\n",
       "    }\n",
       "</style>\n",
       "<table border=\"1\" class=\"dataframe\">\n",
       "  <thead>\n",
       "    <tr style=\"text-align: right;\">\n",
       "      <th></th>\n",
       "      <th>DivisionName</th>\n",
       "      <th>Pincode</th>\n",
       "      <th>StateName</th>\n",
       "    </tr>\n",
       "  </thead>\n",
       "  <tbody>\n",
       "    <tr>\n",
       "      <th>0</th>\n",
       "      <td>Hindupur</td>\n",
       "      <td>515631</td>\n",
       "      <td>ANDHRA PRADESH</td>\n",
       "    </tr>\n",
       "    <tr>\n",
       "      <th>1</th>\n",
       "      <td>Hindupur</td>\n",
       "      <td>515631</td>\n",
       "      <td>ANDHRA PRADESH</td>\n",
       "    </tr>\n",
       "    <tr>\n",
       "      <th>2</th>\n",
       "      <td>Hindupur</td>\n",
       "      <td>515631</td>\n",
       "      <td>ANDHRA PRADESH</td>\n",
       "    </tr>\n",
       "    <tr>\n",
       "      <th>3</th>\n",
       "      <td>Hindupur</td>\n",
       "      <td>515581</td>\n",
       "      <td>ANDHRA PRADESH</td>\n",
       "    </tr>\n",
       "    <tr>\n",
       "      <th>4</th>\n",
       "      <td>Hindupur</td>\n",
       "      <td>515581</td>\n",
       "      <td>ANDHRA PRADESH</td>\n",
       "    </tr>\n",
       "  </tbody>\n",
       "</table>\n",
       "</div>"
      ],
      "text/plain": [
       "  DivisionName  Pincode       StateName\n",
       "0    Hindupur    515631  ANDHRA PRADESH\n",
       "1    Hindupur    515631  ANDHRA PRADESH\n",
       "2    Hindupur    515631  ANDHRA PRADESH\n",
       "3    Hindupur    515581  ANDHRA PRADESH\n",
       "4    Hindupur    515581  ANDHRA PRADESH"
      ]
     },
     "execution_count": 19,
     "metadata": {},
     "output_type": "execute_result"
    }
   ],
   "source": [
    "df_local.head()"
   ]
  },
  {
   "cell_type": "code",
   "execution_count": 25,
   "id": "5691df37-5b2a-4fae-ba90-913de1f3af31",
   "metadata": {},
   "outputs": [],
   "source": [
    "df_local['DivisionName'] = df_local['DivisionName'].str.strip().str.title()"
   ]
  },
  {
   "cell_type": "code",
   "execution_count": 27,
   "id": "ec19110a-04f1-44dc-a3ac-342fd988577c",
   "metadata": {},
   "outputs": [
    {
     "data": {
      "text/html": [
       "<div>\n",
       "<style scoped>\n",
       "    .dataframe tbody tr th:only-of-type {\n",
       "        vertical-align: middle;\n",
       "    }\n",
       "\n",
       "    .dataframe tbody tr th {\n",
       "        vertical-align: top;\n",
       "    }\n",
       "\n",
       "    .dataframe thead th {\n",
       "        text-align: right;\n",
       "    }\n",
       "</style>\n",
       "<table border=\"1\" class=\"dataframe\">\n",
       "  <thead>\n",
       "    <tr style=\"text-align: right;\">\n",
       "      <th></th>\n",
       "      <th>DivisionName</th>\n",
       "      <th>Pincode</th>\n",
       "      <th>StateName</th>\n",
       "    </tr>\n",
       "  </thead>\n",
       "  <tbody>\n",
       "    <tr>\n",
       "      <th>0</th>\n",
       "      <td>Hindupur</td>\n",
       "      <td>515631</td>\n",
       "      <td>ANDHRA PRADESH</td>\n",
       "    </tr>\n",
       "    <tr>\n",
       "      <th>1</th>\n",
       "      <td>Hindupur</td>\n",
       "      <td>515631</td>\n",
       "      <td>ANDHRA PRADESH</td>\n",
       "    </tr>\n",
       "    <tr>\n",
       "      <th>2</th>\n",
       "      <td>Hindupur</td>\n",
       "      <td>515631</td>\n",
       "      <td>ANDHRA PRADESH</td>\n",
       "    </tr>\n",
       "    <tr>\n",
       "      <th>3</th>\n",
       "      <td>Hindupur</td>\n",
       "      <td>515581</td>\n",
       "      <td>ANDHRA PRADESH</td>\n",
       "    </tr>\n",
       "    <tr>\n",
       "      <th>4</th>\n",
       "      <td>Hindupur</td>\n",
       "      <td>515581</td>\n",
       "      <td>ANDHRA PRADESH</td>\n",
       "    </tr>\n",
       "  </tbody>\n",
       "</table>\n",
       "</div>"
      ],
      "text/plain": [
       "  DivisionName  Pincode       StateName\n",
       "0     Hindupur   515631  ANDHRA PRADESH\n",
       "1     Hindupur   515631  ANDHRA PRADESH\n",
       "2     Hindupur   515631  ANDHRA PRADESH\n",
       "3     Hindupur   515581  ANDHRA PRADESH\n",
       "4     Hindupur   515581  ANDHRA PRADESH"
      ]
     },
     "execution_count": 27,
     "metadata": {},
     "output_type": "execute_result"
    }
   ],
   "source": [
    "df_local.head()"
   ]
  },
  {
   "cell_type": "code",
   "execution_count": 39,
   "id": "1d94354b-38fd-4229-b909-52474f6cff01",
   "metadata": {},
   "outputs": [],
   "source": [
    "def find_matching_division(postal_code):\n",
    "    local_matches = df_local[df_local['Pincode'] == postal_code]\n",
    "    if local_matches.empty:\n",
    "        return None\n",
    "    return local_matches.iloc[0]['DivisionName']"
   ]
  },
  {
   "cell_type": "code",
   "execution_count": 41,
   "id": "d2b7cae1-43ef-4a59-a1c2-ea367c272f43",
   "metadata": {},
   "outputs": [],
   "source": [
    "df_cities['Validated_City'] = df_cities['Ship_city']"
   ]
  },
  {
   "cell_type": "code",
   "execution_count": 43,
   "id": "085759c4-4855-4727-9cbb-11fcaaa0ceba",
   "metadata": {},
   "outputs": [
    {
     "data": {
      "text/html": [
       "<div>\n",
       "<style scoped>\n",
       "    .dataframe tbody tr th:only-of-type {\n",
       "        vertical-align: middle;\n",
       "    }\n",
       "\n",
       "    .dataframe tbody tr th {\n",
       "        vertical-align: top;\n",
       "    }\n",
       "\n",
       "    .dataframe thead th {\n",
       "        text-align: right;\n",
       "    }\n",
       "</style>\n",
       "<table border=\"1\" class=\"dataframe\">\n",
       "  <thead>\n",
       "    <tr style=\"text-align: right;\">\n",
       "      <th></th>\n",
       "      <th>Ship_city</th>\n",
       "      <th>Ship_postal_code</th>\n",
       "      <th>Validated_City</th>\n",
       "    </tr>\n",
       "  </thead>\n",
       "  <tbody>\n",
       "    <tr>\n",
       "      <th>0</th>\n",
       "      <td>Mumbai</td>\n",
       "      <td>400081</td>\n",
       "      <td>Mumbai</td>\n",
       "    </tr>\n",
       "    <tr>\n",
       "      <th>1</th>\n",
       "      <td>Bengaluru</td>\n",
       "      <td>560085</td>\n",
       "      <td>Bengaluru</td>\n",
       "    </tr>\n",
       "    <tr>\n",
       "      <th>2</th>\n",
       "      <td>Navi Mumbai</td>\n",
       "      <td>410210</td>\n",
       "      <td>Navi Mumbai</td>\n",
       "    </tr>\n",
       "    <tr>\n",
       "      <th>3</th>\n",
       "      <td>Puducherry</td>\n",
       "      <td>605008</td>\n",
       "      <td>Puducherry</td>\n",
       "    </tr>\n",
       "    <tr>\n",
       "      <th>4</th>\n",
       "      <td>Chennai</td>\n",
       "      <td>600073</td>\n",
       "      <td>Chennai</td>\n",
       "    </tr>\n",
       "  </tbody>\n",
       "</table>\n",
       "</div>"
      ],
      "text/plain": [
       "     Ship_city  Ship_postal_code Validated_City\n",
       "0       Mumbai            400081         Mumbai\n",
       "1    Bengaluru            560085      Bengaluru\n",
       "2  Navi Mumbai            410210    Navi Mumbai\n",
       "3   Puducherry            605008     Puducherry\n",
       "4      Chennai            600073        Chennai"
      ]
     },
     "execution_count": 43,
     "metadata": {},
     "output_type": "execute_result"
    }
   ],
   "source": [
    "df_cities.head()"
   ]
  },
  {
   "cell_type": "code",
   "execution_count": 45,
   "id": "9b837666-936d-476f-91e3-6b6ec1ba1682",
   "metadata": {},
   "outputs": [],
   "source": [
    "##Iterating over each record in df_cities and updating\n",
    "for index, row in df_cities.iterrows():\n",
    "    postal_code = row['Ship_postal_code']\n",
    "    matched_division = find_matching_division(postal_code)\n",
    "    if matched_division:\n",
    "        df_cities.at[index,'Validated_City'] = matched_division\n",
    "    else:\n",
    "        df_cities.at[index, 'Validated_City'] = row['Ship_city']"
   ]
  },
  {
   "cell_type": "code",
   "execution_count": 47,
   "id": "e1fc1cfe-f756-4f9a-a4ba-6ae972a6c96c",
   "metadata": {},
   "outputs": [
    {
     "name": "stdout",
     "output_type": "stream",
     "text": [
      "          Ship_city  Ship_postal_code          Validated_City\n",
      "0            Mumbai            400081  Mumbai City North East\n",
      "1         Bengaluru            560085         Bengaluru South\n",
      "2       Navi Mumbai            410210             Navi Mumbai\n",
      "3        Puducherry            605008             Pondicherry\n",
      "4           Chennai            600073                Tambaram\n",
      "...             ...               ...                     ...\n",
      "128971    Hyderabad            500013    Hyderabad South East\n",
      "128972     Gurugram            122004                 Gurgaon\n",
      "128973    Hyderabad            500049            Secunderabad\n",
      "128974        Halol            389350             Panchmahals\n",
      "128975       Raipur            492014                  Raipur\n",
      "\n",
      "[128976 rows x 3 columns]\n"
     ]
    }
   ],
   "source": [
    "print(df_cities)"
   ]
  },
  {
   "cell_type": "code",
   "execution_count": 50,
   "id": "62412136-99fe-4963-bf9a-d59d0ff3939e",
   "metadata": {},
   "outputs": [],
   "source": [
    "df_cities.to_csv('C:/Users/nagap/Documents/ValidatedCities2.csv', index = False)"
   ]
  },
  {
   "cell_type": "code",
   "execution_count": null,
   "id": "2a50f48f-1f00-4f72-a1d1-548b7c323e91",
   "metadata": {},
   "outputs": [],
   "source": []
  },
  {
   "cell_type": "code",
   "execution_count": null,
   "id": "9c88f4f5-15d5-4cec-9d36-c775938736ea",
   "metadata": {},
   "outputs": [],
   "source": []
  },
  {
   "cell_type": "code",
   "execution_count": null,
   "id": "9298830d-7fda-40bb-ab9a-f20c52e1abe5",
   "metadata": {},
   "outputs": [],
   "source": []
  },
  {
   "cell_type": "code",
   "execution_count": null,
   "id": "5f521837-1da7-4d59-a385-8aa08ea3c646",
   "metadata": {},
   "outputs": [],
   "source": []
  },
  {
   "cell_type": "code",
   "execution_count": null,
   "id": "394edd63-f955-41f8-bec0-87e2ad17f8b2",
   "metadata": {},
   "outputs": [],
   "source": []
  },
  {
   "cell_type": "code",
   "execution_count": null,
   "id": "854b24fa-f7fd-4324-808c-a9985a28ca82",
   "metadata": {},
   "outputs": [],
   "source": []
  },
  {
   "cell_type": "code",
   "execution_count": null,
   "id": "6ed3dab5-af21-4ecb-8a7f-64a4cb770a29",
   "metadata": {},
   "outputs": [],
   "source": []
  }
 ],
 "metadata": {
  "kernelspec": {
   "display_name": "Python 3 (ipykernel)",
   "language": "python",
   "name": "python3"
  },
  "language_info": {
   "codemirror_mode": {
    "name": "ipython",
    "version": 3
   },
   "file_extension": ".py",
   "mimetype": "text/x-python",
   "name": "python",
   "nbconvert_exporter": "python",
   "pygments_lexer": "ipython3",
   "version": "3.12.4"
  }
 },
 "nbformat": 4,
 "nbformat_minor": 5
}
